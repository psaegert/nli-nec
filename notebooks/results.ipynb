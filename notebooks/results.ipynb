{
 "cells": [
  {
   "cell_type": "code",
   "execution_count": 37,
   "metadata": {},
   "outputs": [],
   "source": [
    "import pandas as pd\n",
    "import os\n",
    "from functools import reduce\n",
    "\n",
    "from nlinec import get_models_dir, get_results_dir"
   ]
  },
  {
   "cell_type": "code",
   "execution_count": 38,
   "metadata": {},
   "outputs": [],
   "source": [
    "ACCURACY_FILE = 'accuracy.csv'\n",
    "MNLI_ACCURACY_FILE = 'mnli_accuracy.csv'"
   ]
  },
  {
   "cell_type": "code",
   "execution_count": 39,
   "metadata": {},
   "outputs": [
    {
     "name": "stdout",
     "output_type": "stream",
     "text": [
      "['nlinec-AE-2', 'nlinec-B-2', 'nlinec-C-2', 'nlinec-D-1', 'nlinec-D-2', 'nlinec-D-3', 'nlinec-E-2', 'roberta-large-mnli']\n"
     ]
    }
   ],
   "source": [
    "models = sorted(os.listdir(get_results_dir()))\n",
    "print(models)"
   ]
  },
  {
   "cell_type": "code",
   "execution_count": 40,
   "metadata": {},
   "outputs": [],
   "source": [
    "accuracy = {}\n",
    "mnli_accuracy = {}\n",
    "for model in models:\n",
    "    if os.path.exists(os.path.join(get_results_dir(), model, ACCURACY_FILE)):\n",
    "        accuracy[model] = pd.read_csv(os.path.join(get_results_dir(), model, ACCURACY_FILE), index_col=0).rename(columns={'accuracy': model})\n",
    "\n",
    "    if os.path.exists(os.path.join(get_results_dir(), model, MNLI_ACCURACY_FILE)):\n",
    "        mnli_accuracy[model] = pd.read_csv(os.path.join(get_results_dir(), model, MNLI_ACCURACY_FILE), index_col=0).rename(columns={'accuracy': model})"
   ]
  },
  {
   "cell_type": "code",
   "execution_count": 41,
   "metadata": {},
   "outputs": [
    {
     "data": {
      "text/html": [
       "<div>\n",
       "<style scoped>\n",
       "    .dataframe tbody tr th:only-of-type {\n",
       "        vertical-align: middle;\n",
       "    }\n",
       "\n",
       "    .dataframe tbody tr th {\n",
       "        vertical-align: top;\n",
       "    }\n",
       "\n",
       "    .dataframe thead th {\n",
       "        text-align: right;\n",
       "    }\n",
       "</style>\n",
       "<table border=\"1\" class=\"dataframe\">\n",
       "  <thead>\n",
       "    <tr style=\"text-align: right;\">\n",
       "      <th></th>\n",
       "      <th>0</th>\n",
       "      <th>1</th>\n",
       "      <th>2</th>\n",
       "    </tr>\n",
       "  </thead>\n",
       "  <tbody>\n",
       "    <tr>\n",
       "      <th>granularity</th>\n",
       "      <td>1.000000</td>\n",
       "      <td>2.000000</td>\n",
       "      <td>3.000000</td>\n",
       "    </tr>\n",
       "    <tr>\n",
       "      <th>nlinec-C-2</th>\n",
       "      <td>0.527657</td>\n",
       "      <td>0.588185</td>\n",
       "      <td>0.673861</td>\n",
       "    </tr>\n",
       "    <tr>\n",
       "      <th>nlinec-D-1</th>\n",
       "      <td>0.835219</td>\n",
       "      <td>0.360125</td>\n",
       "      <td>0.544365</td>\n",
       "    </tr>\n",
       "    <tr>\n",
       "      <th>nlinec-D-2</th>\n",
       "      <td>0.423691</td>\n",
       "      <td>0.588753</td>\n",
       "      <td>0.599520</td>\n",
       "    </tr>\n",
       "    <tr>\n",
       "      <th>nlinec-D-3</th>\n",
       "      <td>0.380962</td>\n",
       "      <td>0.499290</td>\n",
       "      <td>0.642686</td>\n",
       "    </tr>\n",
       "    <tr>\n",
       "      <th>nlinec-E-2</th>\n",
       "      <td>0.235643</td>\n",
       "      <td>0.046862</td>\n",
       "      <td>0.136691</td>\n",
       "    </tr>\n",
       "    <tr>\n",
       "      <th>roberta-large-mnli</th>\n",
       "      <td>0.460074</td>\n",
       "      <td>0.346492</td>\n",
       "      <td>0.441247</td>\n",
       "    </tr>\n",
       "  </tbody>\n",
       "</table>\n",
       "</div>"
      ],
      "text/plain": [
       "                           0         1         2\n",
       "granularity         1.000000  2.000000  3.000000\n",
       "nlinec-C-2          0.527657  0.588185  0.673861\n",
       "nlinec-D-1          0.835219  0.360125  0.544365\n",
       "nlinec-D-2          0.423691  0.588753  0.599520\n",
       "nlinec-D-3          0.380962  0.499290  0.642686\n",
       "nlinec-E-2          0.235643  0.046862  0.136691\n",
       "roberta-large-mnli  0.460074  0.346492  0.441247"
      ]
     },
     "execution_count": 41,
     "metadata": {},
     "output_type": "execute_result"
    }
   ],
   "source": [
    "# Merge all accuracy dataframes on the 'granularity' column\n",
    "accuracy_df = reduce(lambda left, right: pd.merge(left, right, on='granularity'), accuracy.values()).T\n",
    "accuracy_df"
   ]
  },
  {
   "cell_type": "code",
   "execution_count": 42,
   "metadata": {},
   "outputs": [
    {
     "data": {
      "text/html": [
       "<div>\n",
       "<style scoped>\n",
       "    .dataframe tbody tr th:only-of-type {\n",
       "        vertical-align: middle;\n",
       "    }\n",
       "\n",
       "    .dataframe tbody tr th {\n",
       "        vertical-align: top;\n",
       "    }\n",
       "\n",
       "    .dataframe thead th {\n",
       "        text-align: right;\n",
       "    }\n",
       "</style>\n",
       "<table border=\"1\" class=\"dataframe\">\n",
       "  <thead>\n",
       "    <tr style=\"text-align: right;\">\n",
       "      <th></th>\n",
       "      <th>accuracy</th>\n",
       "    </tr>\n",
       "  </thead>\n",
       "  <tbody>\n",
       "    <tr>\n",
       "      <th>nlinec-C-2</th>\n",
       "      <td>0.744880</td>\n",
       "    </tr>\n",
       "    <tr>\n",
       "      <th>nlinec-D-1</th>\n",
       "      <td>0.841875</td>\n",
       "    </tr>\n",
       "    <tr>\n",
       "      <th>nlinec-D-2</th>\n",
       "      <td>0.823128</td>\n",
       "    </tr>\n",
       "    <tr>\n",
       "      <th>nlinec-D-3</th>\n",
       "      <td>0.805502</td>\n",
       "    </tr>\n",
       "    <tr>\n",
       "      <th>nlinec-E-2</th>\n",
       "      <td>0.700662</td>\n",
       "    </tr>\n",
       "    <tr>\n",
       "      <th>roberta-large-mnli</th>\n",
       "      <td>0.902598</td>\n",
       "    </tr>\n",
       "  </tbody>\n",
       "</table>\n",
       "</div>"
      ],
      "text/plain": [
       "                    accuracy\n",
       "nlinec-C-2          0.744880\n",
       "nlinec-D-1          0.841875\n",
       "nlinec-D-2          0.823128\n",
       "nlinec-D-3          0.805502\n",
       "nlinec-E-2          0.700662\n",
       "roberta-large-mnli  0.902598"
      ]
     },
     "execution_count": 42,
     "metadata": {},
     "output_type": "execute_result"
    }
   ],
   "source": [
    "mnli_accuracy_df = pd.concat(mnli_accuracy.values(), axis=1).T\n",
    "mnli_accuracy_df"
   ]
  },
  {
   "cell_type": "code",
   "execution_count": 47,
   "metadata": {},
   "outputs": [
    {
     "data": {
      "text/html": [
       "<div>\n",
       "<style scoped>\n",
       "    .dataframe tbody tr th:only-of-type {\n",
       "        vertical-align: middle;\n",
       "    }\n",
       "\n",
       "    .dataframe tbody tr th {\n",
       "        vertical-align: top;\n",
       "    }\n",
       "\n",
       "    .dataframe thead th {\n",
       "        text-align: right;\n",
       "    }\n",
       "</style>\n",
       "<table border=\"1\" class=\"dataframe\">\n",
       "  <thead>\n",
       "    <tr style=\"text-align: right;\">\n",
       "      <th></th>\n",
       "      <th>Coarse</th>\n",
       "      <th>Medium</th>\n",
       "      <th>Fine</th>\n",
       "      <th>MNLI</th>\n",
       "    </tr>\n",
       "  </thead>\n",
       "  <tbody>\n",
       "    <tr>\n",
       "      <th>nlinec-C-2</th>\n",
       "      <td>0.527657</td>\n",
       "      <td>0.588185</td>\n",
       "      <td>0.673861</td>\n",
       "      <td>0.744880</td>\n",
       "    </tr>\n",
       "    <tr>\n",
       "      <th>nlinec-D-1</th>\n",
       "      <td>0.835219</td>\n",
       "      <td>0.360125</td>\n",
       "      <td>0.544365</td>\n",
       "      <td>0.841875</td>\n",
       "    </tr>\n",
       "    <tr>\n",
       "      <th>nlinec-D-2</th>\n",
       "      <td>0.423691</td>\n",
       "      <td>0.588753</td>\n",
       "      <td>0.599520</td>\n",
       "      <td>0.823128</td>\n",
       "    </tr>\n",
       "    <tr>\n",
       "      <th>nlinec-D-3</th>\n",
       "      <td>0.380962</td>\n",
       "      <td>0.499290</td>\n",
       "      <td>0.642686</td>\n",
       "      <td>0.805502</td>\n",
       "    </tr>\n",
       "    <tr>\n",
       "      <th>nlinec-E-2</th>\n",
       "      <td>0.235643</td>\n",
       "      <td>0.046862</td>\n",
       "      <td>0.136691</td>\n",
       "      <td>0.700662</td>\n",
       "    </tr>\n",
       "    <tr>\n",
       "      <th>roberta-large-mnli</th>\n",
       "      <td>0.460074</td>\n",
       "      <td>0.346492</td>\n",
       "      <td>0.441247</td>\n",
       "      <td>0.902598</td>\n",
       "    </tr>\n",
       "  </tbody>\n",
       "</table>\n",
       "</div>"
      ],
      "text/plain": [
       "                      Coarse    Medium      Fine      MNLI\n",
       "nlinec-C-2          0.527657  0.588185  0.673861  0.744880\n",
       "nlinec-D-1          0.835219  0.360125  0.544365  0.841875\n",
       "nlinec-D-2          0.423691  0.588753  0.599520  0.823128\n",
       "nlinec-D-3          0.380962  0.499290  0.642686  0.805502\n",
       "nlinec-E-2          0.235643  0.046862  0.136691  0.700662\n",
       "roberta-large-mnli  0.460074  0.346492  0.441247  0.902598"
      ]
     },
     "execution_count": 47,
     "metadata": {},
     "output_type": "execute_result"
    }
   ],
   "source": [
    "# Combine the accuracy and mnli_accuracy dataframes\n",
    "# Rename the Granularity columns from 0, 1, 2 to 'Coarse', 'Medium', 'Fine'\n",
    "# Rename the 'accuracy' column from the mnli_accuracy dataframe to 'MNLI Accuracy'\n",
    "# Remove the 'granularity' row from the resulting dataframe\n",
    "combined_df = pd.concat([accuracy_df, mnli_accuracy_df], axis=1).rename(columns={0: 'Coarse', 1: 'Medium', 2: 'Fine', 'accuracy': 'MNLI'}).drop('granularity', axis=0)\n",
    "combined_df"
   ]
  }
 ],
 "metadata": {
  "kernelspec": {
   "display_name": "fsem",
   "language": "python",
   "name": "python3"
  },
  "language_info": {
   "codemirror_mode": {
    "name": "ipython",
    "version": 3
   },
   "file_extension": ".py",
   "mimetype": "text/x-python",
   "name": "python",
   "nbconvert_exporter": "python",
   "pygments_lexer": "ipython3",
   "version": "3.10.9"
  },
  "orig_nbformat": 4
 },
 "nbformat": 4,
 "nbformat_minor": 2
}
