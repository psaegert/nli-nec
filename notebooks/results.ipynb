{
 "cells": [
  {
   "cell_type": "code",
   "execution_count": 28,
   "metadata": {},
   "outputs": [],
   "source": [
    "import pandas as pd\n",
    "import os\n",
    "from functools import reduce\n",
    "\n",
    "from nlinec import get_models_dir, get_results_dir"
   ]
  },
  {
   "cell_type": "code",
   "execution_count": 29,
   "metadata": {},
   "outputs": [],
   "source": [
    "ACCURACY_FILE = 'accuracy.csv'\n",
    "MNLI_ACCURACY_FILE = 'mnli_accuracy.csv'"
   ]
  },
  {
   "cell_type": "code",
   "execution_count": 30,
   "metadata": {},
   "outputs": [
    {
     "name": "stdout",
     "output_type": "stream",
     "text": [
      "['nlinec-AE-2', 'nlinec-B-2', 'nlinec-C-2', 'nlinec-D-1', 'nlinec-D-2', 'nlinec-D-3', 'nlinec-E-2', 'roberta-large-mnli']\n"
     ]
    }
   ],
   "source": [
    "models = sorted(os.listdir(get_results_dir()))\n",
    "print(models)"
   ]
  },
  {
   "cell_type": "code",
   "execution_count": 31,
   "metadata": {},
   "outputs": [],
   "source": [
    "accuracy = {}\n",
    "mnli_accuracy = {}\n",
    "for model in models:\n",
    "    if os.path.exists(os.path.join(get_results_dir(), model, ACCURACY_FILE)):\n",
    "        accuracy[model] = pd.read_csv(os.path.join(get_results_dir(), model, ACCURACY_FILE), index_col=0).rename(columns={'accuracy': model})\n",
    "\n",
    "    if os.path.exists(os.path.join(get_results_dir(), model, MNLI_ACCURACY_FILE)):\n",
    "        mnli_accuracy[model] = pd.read_csv(os.path.join(get_results_dir(), model, MNLI_ACCURACY_FILE), index_col=0).rename(columns={'accuracy': model})"
   ]
  },
  {
   "cell_type": "code",
   "execution_count": 32,
   "metadata": {},
   "outputs": [
    {
     "data": {
      "text/plain": [
       "{'nlinec-C-2':    granularity  nlinec-C-2\n",
       " 0            1    0.527657\n",
       " 1            2    0.588185\n",
       " 2            3    0.673861,\n",
       " 'nlinec-D-1':    granularity  nlinec-D-1\n",
       " 0            1    0.835219\n",
       " 1            2    0.360125\n",
       " 2            3    0.544365,\n",
       " 'nlinec-D-2':    granularity  nlinec-D-2\n",
       " 0            1    0.423691\n",
       " 1            2    0.588753\n",
       " 2            3    0.599520,\n",
       " 'nlinec-D-3':    granularity  nlinec-D-3\n",
       " 0            1    0.380962\n",
       " 1            2    0.499290\n",
       " 2            3    0.642686,\n",
       " 'nlinec-E-2':    granularity  nlinec-E-2\n",
       " 0            1    0.235643\n",
       " 1            2    0.046862\n",
       " 2            3    0.136691,\n",
       " 'roberta-large-mnli':    granularity  roberta-large-mnli\n",
       " 0            1            0.460074\n",
       " 1            2            0.346492\n",
       " 2            3            0.441247}"
      ]
     },
     "execution_count": 32,
     "metadata": {},
     "output_type": "execute_result"
    }
   ],
   "source": [
    "accuracy"
   ]
  },
  {
   "cell_type": "code",
   "execution_count": 33,
   "metadata": {},
   "outputs": [
    {
     "data": {
      "text/html": [
       "<div>\n",
       "<style scoped>\n",
       "    .dataframe tbody tr th:only-of-type {\n",
       "        vertical-align: middle;\n",
       "    }\n",
       "\n",
       "    .dataframe tbody tr th {\n",
       "        vertical-align: top;\n",
       "    }\n",
       "\n",
       "    .dataframe thead th {\n",
       "        text-align: right;\n",
       "    }\n",
       "</style>\n",
       "<table border=\"1\" class=\"dataframe\">\n",
       "  <thead>\n",
       "    <tr style=\"text-align: right;\">\n",
       "      <th></th>\n",
       "      <th>granularity</th>\n",
       "      <th>nlinec-C-2</th>\n",
       "      <th>nlinec-D-1</th>\n",
       "      <th>nlinec-D-2</th>\n",
       "      <th>nlinec-D-3</th>\n",
       "      <th>nlinec-E-2</th>\n",
       "      <th>roberta-large-mnli</th>\n",
       "    </tr>\n",
       "  </thead>\n",
       "  <tbody>\n",
       "    <tr>\n",
       "      <th>0</th>\n",
       "      <td>1</td>\n",
       "      <td>0.527657</td>\n",
       "      <td>0.835219</td>\n",
       "      <td>0.423691</td>\n",
       "      <td>0.380962</td>\n",
       "      <td>0.235643</td>\n",
       "      <td>0.460074</td>\n",
       "    </tr>\n",
       "    <tr>\n",
       "      <th>1</th>\n",
       "      <td>2</td>\n",
       "      <td>0.588185</td>\n",
       "      <td>0.360125</td>\n",
       "      <td>0.588753</td>\n",
       "      <td>0.499290</td>\n",
       "      <td>0.046862</td>\n",
       "      <td>0.346492</td>\n",
       "    </tr>\n",
       "    <tr>\n",
       "      <th>2</th>\n",
       "      <td>3</td>\n",
       "      <td>0.673861</td>\n",
       "      <td>0.544365</td>\n",
       "      <td>0.599520</td>\n",
       "      <td>0.642686</td>\n",
       "      <td>0.136691</td>\n",
       "      <td>0.441247</td>\n",
       "    </tr>\n",
       "  </tbody>\n",
       "</table>\n",
       "</div>"
      ],
      "text/plain": [
       "   granularity  nlinec-C-2  nlinec-D-1  nlinec-D-2  nlinec-D-3  nlinec-E-2  \\\n",
       "0            1    0.527657    0.835219    0.423691    0.380962    0.235643   \n",
       "1            2    0.588185    0.360125    0.588753    0.499290    0.046862   \n",
       "2            3    0.673861    0.544365    0.599520    0.642686    0.136691   \n",
       "\n",
       "   roberta-large-mnli  \n",
       "0            0.460074  \n",
       "1            0.346492  \n",
       "2            0.441247  "
      ]
     },
     "execution_count": 33,
     "metadata": {},
     "output_type": "execute_result"
    }
   ],
   "source": [
    "# Merge all accuracy dataframes on the 'granularity' column\n",
    "accuracy_df = reduce(lambda left, right: pd.merge(left, right, on='granularity'), accuracy.values())\n",
    "accuracy_df"
   ]
  },
  {
   "cell_type": "code",
   "execution_count": 34,
   "metadata": {},
   "outputs": [
    {
     "data": {
      "text/html": [
       "<div>\n",
       "<style scoped>\n",
       "    .dataframe tbody tr th:only-of-type {\n",
       "        vertical-align: middle;\n",
       "    }\n",
       "\n",
       "    .dataframe tbody tr th {\n",
       "        vertical-align: top;\n",
       "    }\n",
       "\n",
       "    .dataframe thead th {\n",
       "        text-align: right;\n",
       "    }\n",
       "</style>\n",
       "<table border=\"1\" class=\"dataframe\">\n",
       "  <thead>\n",
       "    <tr style=\"text-align: right;\">\n",
       "      <th></th>\n",
       "      <th>nlinec-C-2</th>\n",
       "      <th>nlinec-D-1</th>\n",
       "      <th>nlinec-D-2</th>\n",
       "      <th>nlinec-D-3</th>\n",
       "      <th>nlinec-E-2</th>\n",
       "      <th>roberta-large-mnli</th>\n",
       "    </tr>\n",
       "  </thead>\n",
       "  <tbody>\n",
       "    <tr>\n",
       "      <th>accuracy</th>\n",
       "      <td>0.74488</td>\n",
       "      <td>0.841875</td>\n",
       "      <td>0.823128</td>\n",
       "      <td>0.805502</td>\n",
       "      <td>0.700662</td>\n",
       "      <td>0.902598</td>\n",
       "    </tr>\n",
       "  </tbody>\n",
       "</table>\n",
       "</div>"
      ],
      "text/plain": [
       "          nlinec-C-2  nlinec-D-1  nlinec-D-2  nlinec-D-3  nlinec-E-2  \\\n",
       "accuracy     0.74488    0.841875    0.823128    0.805502    0.700662   \n",
       "\n",
       "          roberta-large-mnli  \n",
       "accuracy            0.902598  "
      ]
     },
     "execution_count": 34,
     "metadata": {},
     "output_type": "execute_result"
    }
   ],
   "source": [
    "mnli_accuracy_df = pd.concat(mnli_accuracy.values(), axis=1)\n",
    "mnli_accuracy_df"
   ]
  }
 ],
 "metadata": {
  "kernelspec": {
   "display_name": "fsem",
   "language": "python",
   "name": "python3"
  },
  "language_info": {
   "codemirror_mode": {
    "name": "ipython",
    "version": 3
   },
   "file_extension": ".py",
   "mimetype": "text/x-python",
   "name": "python",
   "nbconvert_exporter": "python",
   "pygments_lexer": "ipython3",
   "version": "3.10.9"
  },
  "orig_nbformat": 4
 },
 "nbformat": 4,
 "nbformat_minor": 2
}
