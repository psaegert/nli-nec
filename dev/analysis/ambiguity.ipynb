{
 "cells": [
  {
   "cell_type": "code",
   "execution_count": 9,
   "metadata": {},
   "outputs": [],
   "source": [
    "import os\n",
    "import json\n",
    "\n",
    "from nlinec.data.load import get_positive_data\n",
    "from nlinec.utils import get_data_dir\n",
    "\n",
    "from tqdm import tqdm"
   ]
  },
  {
   "cell_type": "code",
   "execution_count": 2,
   "metadata": {},
   "outputs": [
    {
     "name": "stderr",
     "output_type": "stream",
     "text": [
      "793487it [00:10, 76304.08it/s] \n"
     ]
    }
   ],
   "source": [
    "data = get_positive_data('augmented_train.json')"
   ]
  },
  {
   "cell_type": "code",
   "execution_count": 3,
   "metadata": {},
   "outputs": [
    {
     "data": {
      "text/html": [
       "<div>\n",
       "<style scoped>\n",
       "    .dataframe tbody tr th:only-of-type {\n",
       "        vertical-align: middle;\n",
       "    }\n",
       "\n",
       "    .dataframe tbody tr th {\n",
       "        vertical-align: top;\n",
       "    }\n",
       "\n",
       "    .dataframe thead th {\n",
       "        text-align: right;\n",
       "    }\n",
       "</style>\n",
       "<table border=\"1\" class=\"dataframe\">\n",
       "  <thead>\n",
       "    <tr style=\"text-align: right;\">\n",
       "      <th></th>\n",
       "      <th>type</th>\n",
       "      <th>mention_span</th>\n",
       "      <th>sentence</th>\n",
       "    </tr>\n",
       "  </thead>\n",
       "  <tbody>\n",
       "    <tr>\n",
       "      <th>0</th>\n",
       "      <td>/other</td>\n",
       "      <td>the history and science of aviation and spacef...</td>\n",
       "      <td>Located in Washington, D.C., United States, it...</td>\n",
       "    </tr>\n",
       "    <tr>\n",
       "      <th>1</th>\n",
       "      <td>/other</td>\n",
       "      <td>his debut</td>\n",
       "      <td>The seventh child of the Jackson family, he ma...</td>\n",
       "    </tr>\n",
       "    <tr>\n",
       "      <th>2</th>\n",
       "      <td>/location/country</td>\n",
       "      <td>We</td>\n",
       "      <td>We did not do anything at that time.</td>\n",
       "    </tr>\n",
       "    <tr>\n",
       "      <th>3</th>\n",
       "      <td>/location</td>\n",
       "      <td>We</td>\n",
       "      <td>We did not do anything at that time.</td>\n",
       "    </tr>\n",
       "    <tr>\n",
       "      <th>4</th>\n",
       "      <td>/other</td>\n",
       "      <td>antibody</td>\n",
       "      <td>`` We don't know the effect of our antibody on...</td>\n",
       "    </tr>\n",
       "    <tr>\n",
       "      <th>...</th>\n",
       "      <td>...</td>\n",
       "      <td>...</td>\n",
       "      <td>...</td>\n",
       "    </tr>\n",
       "    <tr>\n",
       "      <th>1865003</th>\n",
       "      <td>/other/art/film</td>\n",
       "      <td>his films</td>\n",
       "      <td>As a boy, he donated his Bar Mitzvah money to ...</td>\n",
       "    </tr>\n",
       "    <tr>\n",
       "      <th>1865004</th>\n",
       "      <td>/other</td>\n",
       "      <td>his films</td>\n",
       "      <td>As a boy, he donated his Bar Mitzvah money to ...</td>\n",
       "    </tr>\n",
       "    <tr>\n",
       "      <th>1865005</th>\n",
       "      <td>/other/art</td>\n",
       "      <td>his films</td>\n",
       "      <td>As a boy, he donated his Bar Mitzvah money to ...</td>\n",
       "    </tr>\n",
       "    <tr>\n",
       "      <th>1865006</th>\n",
       "      <td>/other/art</td>\n",
       "      <td>Japanese martial arts classes such as Aikido ,...</td>\n",
       "      <td>Sensei is often used to address the teacher in...</td>\n",
       "    </tr>\n",
       "    <tr>\n",
       "      <th>1865007</th>\n",
       "      <td>/other</td>\n",
       "      <td>Japanese martial arts classes such as Aikido ,...</td>\n",
       "      <td>Sensei is often used to address the teacher in...</td>\n",
       "    </tr>\n",
       "  </tbody>\n",
       "</table>\n",
       "<p>1865008 rows × 3 columns</p>\n",
       "</div>"
      ],
      "text/plain": [
       "                      type                                       mention_span  \\\n",
       "0                   /other  the history and science of aviation and spacef...   \n",
       "1                   /other                                          his debut   \n",
       "2        /location/country                                                 We   \n",
       "3                /location                                                 We   \n",
       "4                   /other                                           antibody   \n",
       "...                    ...                                                ...   \n",
       "1865003    /other/art/film                                          his films   \n",
       "1865004             /other                                          his films   \n",
       "1865005         /other/art                                          his films   \n",
       "1865006         /other/art  Japanese martial arts classes such as Aikido ,...   \n",
       "1865007             /other  Japanese martial arts classes such as Aikido ,...   \n",
       "\n",
       "                                                  sentence  \n",
       "0        Located in Washington, D.C., United States, it...  \n",
       "1        The seventh child of the Jackson family, he ma...  \n",
       "2                     We did not do anything at that time.  \n",
       "3                     We did not do anything at that time.  \n",
       "4        `` We don't know the effect of our antibody on...  \n",
       "...                                                    ...  \n",
       "1865003  As a boy, he donated his Bar Mitzvah money to ...  \n",
       "1865004  As a boy, he donated his Bar Mitzvah money to ...  \n",
       "1865005  As a boy, he donated his Bar Mitzvah money to ...  \n",
       "1865006  Sensei is often used to address the teacher in...  \n",
       "1865007  Sensei is often used to address the teacher in...  \n",
       "\n",
       "[1865008 rows x 3 columns]"
      ]
     },
     "execution_count": 3,
     "metadata": {},
     "output_type": "execute_result"
    }
   ],
   "source": [
    "data"
   ]
  },
  {
   "cell_type": "code",
   "execution_count": 4,
   "metadata": {},
   "outputs": [
    {
     "name": "stderr",
     "output_type": "stream",
     "text": [
      "100%|██████████| 1865008/1865008 [00:30<00:00, 60597.56it/s]\n"
     ]
    }
   ],
   "source": [
    "# Find the most ambiguous entities\n",
    "ambiguity_index = {}\n",
    "for i, row in tqdm(data.iterrows(), total=len(data)):\n",
    "    # If the entity is not in the index, add an empty dict for its types\n",
    "    if row['mention_span'] not in ambiguity_index:\n",
    "        ambiguity_index[row['mention_span']] = {}\n",
    "\n",
    "    # If the entity type is not in the index, add an empty count\n",
    "    if row['type'] not in ambiguity_index[row['mention_span']]:\n",
    "        ambiguity_index[row['mention_span']][row['type']] = 0\n",
    "\n",
    "    # Increment the count\n",
    "    ambiguity_index[row['mention_span']][row['type']] += 1"
   ]
  },
  {
   "cell_type": "code",
   "execution_count": 5,
   "metadata": {},
   "outputs": [],
   "source": [
    "# Find the most ambiguous entities, i.e. the ones with the most types\n",
    "ambiguity_index = {k: v for k, v in sorted(ambiguity_index.items(), key=lambda item: len(item[1]), reverse=True)}"
   ]
  },
  {
   "cell_type": "code",
   "execution_count": 10,
   "metadata": {},
   "outputs": [],
   "source": [
    "with open(os.path.join(get_data_dir(), 'ambiguity_index.json'), 'w') as f:\n",
    "    json.dump(ambiguity_index, f, indent=4)"
   ]
  }
 ],
 "metadata": {
  "kernelspec": {
   "display_name": "fsem",
   "language": "python",
   "name": "python3"
  },
  "language_info": {
   "codemirror_mode": {
    "name": "ipython",
    "version": 3
   },
   "file_extension": ".py",
   "mimetype": "text/x-python",
   "name": "python",
   "nbconvert_exporter": "python",
   "pygments_lexer": "ipython3",
   "version": "3.10.9"
  },
  "orig_nbformat": 4
 },
 "nbformat": 4,
 "nbformat_minor": 2
}
