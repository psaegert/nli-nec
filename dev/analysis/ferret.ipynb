{
 "cells": [
  {
   "cell_type": "code",
   "execution_count": 3,
   "metadata": {},
   "outputs": [],
   "source": [
    "import os\n",
    "\n",
    "from transformers import AutoModelForSequenceClassification, AutoTokenizer\n",
    "from ferret import Benchmark\n",
    "\n",
    "from nlinec import get_models_dir"
   ]
  },
  {
   "cell_type": "code",
   "execution_count": 4,
   "metadata": {},
   "outputs": [
    {
     "data": {
      "text/plain": [
       "['nlinec-E-2', 'nlinec-C-2', 'nlinec-D-1', 'nlinec-D-2', 'nlinec-D-3']"
      ]
     },
     "execution_count": 4,
     "metadata": {},
     "output_type": "execute_result"
    }
   ],
   "source": [
    "os.listdir(get_models_dir())"
   ]
  },
  {
   "cell_type": "code",
   "execution_count": 6,
   "metadata": {},
   "outputs": [],
   "source": [
    "MODEL = 'roberta-large-mnli'"
   ]
  },
  {
   "cell_type": "code",
   "execution_count": 7,
   "metadata": {},
   "outputs": [
    {
     "name": "stderr",
     "output_type": "stream",
     "text": [
      "Some weights of the model checkpoint at roberta-large-mnli were not used when initializing RobertaForSequenceClassification: ['roberta.pooler.dense.bias', 'roberta.pooler.dense.weight']\n",
      "- This IS expected if you are initializing RobertaForSequenceClassification from the checkpoint of a model trained on another task or with another architecture (e.g. initializing a BertForSequenceClassification model from a BertForPreTraining model).\n",
      "- This IS NOT expected if you are initializing RobertaForSequenceClassification from the checkpoint of a model that you expect to be exactly identical (initializing a BertForSequenceClassification model from a BertForSequenceClassification model).\n"
     ]
    }
   ],
   "source": [
    "model = AutoModelForSequenceClassification.from_pretrained(MODEL)\n",
    "tokenizer = AutoTokenizer.from_pretrained(MODEL)"
   ]
  },
  {
   "cell_type": "code",
   "execution_count": 8,
   "metadata": {},
   "outputs": [],
   "source": [
    "bench = Benchmark(model, tokenizer)"
   ]
  },
  {
   "cell_type": "code",
   "execution_count": 9,
   "metadata": {},
   "outputs": [
    {
     "name": "stderr",
     "output_type": "stream",
     "text": [
      "                                                               \r"
     ]
    },
    {
     "data": {
      "text/html": [
       "<style type=\"text/css\">\n",
       "#T_44187_row0_col0 {\n",
       "  background-color: #eed0d2;\n",
       "  color: #000000;\n",
       "  background-color: #af62af;\n",
       "  color: #f1f1f1;\n",
       "}\n",
       "#T_44187_row0_col1, #T_44187_row1_col1, #T_44187_row5_col1 {\n",
       "  background-color: #f0e3e3;\n",
       "  color: #000000;\n",
       "  background-color: #be82be;\n",
       "  color: #f1f1f1;\n",
       "}\n",
       "#T_44187_row0_col2, #T_44187_row1_col2, #T_44187_row5_col2 {\n",
       "  background-color: #e2777f;\n",
       "  color: #f1f1f1;\n",
       "  background-color: #932793;\n",
       "  color: #f1f1f1;\n",
       "}\n",
       "#T_44187_row1_col0, #T_44187_row2_col0, #T_44187_row5_col0 {\n",
       "  background-color: #eecfd1;\n",
       "  color: #000000;\n",
       "  background-color: #ae61ae;\n",
       "  color: #f1f1f1;\n",
       "}\n",
       "#T_44187_row2_col1 {\n",
       "  background-color: #efdbdd;\n",
       "  color: #000000;\n",
       "  background-color: #c086c0;\n",
       "  color: #f1f1f1;\n",
       "}\n",
       "#T_44187_row2_col2 {\n",
       "  background-color: #eab5b9;\n",
       "  color: #000000;\n",
       "  background-color: #a650a6;\n",
       "  color: #f1f1f1;\n",
       "}\n",
       "#T_44187_row3_col0 {\n",
       "  background-color: #e8ecef;\n",
       "  color: #000000;\n",
       "  background-color: #bc7ebc;\n",
       "  color: #f1f1f1;\n",
       "}\n",
       "#T_44187_row3_col1 {\n",
       "  background-color: #edccce;\n",
       "  color: #000000;\n",
       "  background-color: #c591c5;\n",
       "  color: #f1f1f1;\n",
       "}\n",
       "#T_44187_row3_col2 {\n",
       "  background-color: #417ca8;\n",
       "  color: #f1f1f1;\n",
       "  background-color: #f3f0f3;\n",
       "  color: #000000;\n",
       "}\n",
       "#T_44187_row4_col0 {\n",
       "  background-color: #efdbdd;\n",
       "  color: #000000;\n",
       "  background-color: #b269b2;\n",
       "  color: #f1f1f1;\n",
       "}\n",
       "#T_44187_row4_col1 {\n",
       "  background-color: #efd6d7;\n",
       "  color: #000000;\n",
       "  background-color: #c28ac2;\n",
       "  color: #f1f1f1;\n",
       "}\n",
       "#T_44187_row4_col2 {\n",
       "  background-color: #f2f1f1;\n",
       "  color: #000000;\n",
       "  background-color: #b977b9;\n",
       "  color: #f1f1f1;\n",
       "}\n",
       "</style>\n",
       "<table id=\"T_44187\">\n",
       "  <thead>\n",
       "    <tr>\n",
       "      <th class=\"blank level0\" >&nbsp;</th>\n",
       "      <th id=\"T_44187_level0_col0\" class=\"col_heading level0 col0\" >aopc_compr</th>\n",
       "      <th id=\"T_44187_level0_col1\" class=\"col_heading level0 col1\" >aopc_suff</th>\n",
       "      <th id=\"T_44187_level0_col2\" class=\"col_heading level0 col2\" >taucorr_loo</th>\n",
       "    </tr>\n",
       "  </thead>\n",
       "  <tbody>\n",
       "    <tr>\n",
       "      <th id=\"T_44187_level0_row0\" class=\"row_heading level0 row0\" >Partition SHAP</th>\n",
       "      <td id=\"T_44187_row0_col0\" class=\"data row0 col0\" >0.19</td>\n",
       "      <td id=\"T_44187_row0_col1\" class=\"data row0 col1\" >0.08</td>\n",
       "      <td id=\"T_44187_row0_col2\" class=\"data row0 col2\" >0.67</td>\n",
       "    </tr>\n",
       "    <tr>\n",
       "      <th id=\"T_44187_level0_row1\" class=\"row_heading level0 row1\" >LIME</th>\n",
       "      <td id=\"T_44187_row1_col0\" class=\"data row1 col0\" >0.19</td>\n",
       "      <td id=\"T_44187_row1_col1\" class=\"data row1 col1\" >0.08</td>\n",
       "      <td id=\"T_44187_row1_col2\" class=\"data row1 col2\" >0.67</td>\n",
       "    </tr>\n",
       "    <tr>\n",
       "      <th id=\"T_44187_level0_row2\" class=\"row_heading level0 row2\" >Gradient</th>\n",
       "      <td id=\"T_44187_row2_col0\" class=\"data row2 col0\" >0.19</td>\n",
       "      <td id=\"T_44187_row2_col1\" class=\"data row2 col1\" >0.12</td>\n",
       "      <td id=\"T_44187_row2_col2\" class=\"data row2 col2\" >0.33</td>\n",
       "    </tr>\n",
       "    <tr>\n",
       "      <th id=\"T_44187_level0_row3\" class=\"row_heading level0 row3\" >Gradient (x Input)</th>\n",
       "      <td id=\"T_44187_row3_col0\" class=\"data row3 col0\" >-0.05</td>\n",
       "      <td id=\"T_44187_row3_col1\" class=\"data row3 col1\" >0.21</td>\n",
       "      <td id=\"T_44187_row3_col2\" class=\"data row3 col2\" >-1.00</td>\n",
       "    </tr>\n",
       "    <tr>\n",
       "      <th id=\"T_44187_level0_row4\" class=\"row_heading level0 row4\" >Integrated Gradient</th>\n",
       "      <td id=\"T_44187_row4_col0\" class=\"data row4 col0\" >0.12</td>\n",
       "      <td id=\"T_44187_row4_col1\" class=\"data row4 col1\" >0.15</td>\n",
       "      <td id=\"T_44187_row4_col2\" class=\"data row4 col2\" >0.00</td>\n",
       "    </tr>\n",
       "    <tr>\n",
       "      <th id=\"T_44187_level0_row5\" class=\"row_heading level0 row5\" >Integrated Gradient (x Input)</th>\n",
       "      <td id=\"T_44187_row5_col0\" class=\"data row5 col0\" >0.19</td>\n",
       "      <td id=\"T_44187_row5_col1\" class=\"data row5 col1\" >0.08</td>\n",
       "      <td id=\"T_44187_row5_col2\" class=\"data row5 col2\" >0.67</td>\n",
       "    </tr>\n",
       "  </tbody>\n",
       "</table>\n"
      ],
      "text/plain": [
       "<pandas.io.formats.style.Styler at 0x7f87f02f0460>"
      ]
     },
     "execution_count": 9,
     "metadata": {},
     "output_type": "execute_result"
    }
   ],
   "source": [
    "\n",
    "explanations = bench.explain(\"You look stunning!\", target=1)\n",
    "evaluations = bench.evaluate_explanations(explanations, target=1)\n",
    "\n",
    "bench.show_evaluation_table(evaluations)"
   ]
  }
 ],
 "metadata": {
  "kernelspec": {
   "display_name": "nlinec",
   "language": "python",
   "name": "python3"
  },
  "language_info": {
   "codemirror_mode": {
    "name": "ipython",
    "version": 3
   },
   "file_extension": ".py",
   "mimetype": "text/x-python",
   "name": "python",
   "nbconvert_exporter": "python",
   "pygments_lexer": "ipython3",
   "version": "3.10.10"
  },
  "orig_nbformat": 4
 },
 "nbformat": 4,
 "nbformat_minor": 2
}
