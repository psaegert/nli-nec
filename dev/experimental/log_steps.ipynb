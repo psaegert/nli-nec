{
 "cells": [
  {
   "cell_type": "code",
   "execution_count": 5,
   "metadata": {},
   "outputs": [],
   "source": [
    "import numpy as np"
   ]
  },
  {
   "cell_type": "code",
   "execution_count": 55,
   "metadata": {},
   "outputs": [],
   "source": [
    "callback_steps = np.concatenate([\n",
    "    np.arange(0, 10, 1),\n",
    "    np.arange(10, 50, 5),\n",
    "    np.arange(50, 100, 10),\n",
    "    np.arange(100, 500, 50),\n",
    "    np.arange(500, 1000, 100),\n",
    "    np.arange(1000, 5000, 500),\n",
    "    np.arange(5000, 10000, 1000),\n",
    "    np.arange(10000, 50000, 5000)],\n",
    "    axis=None)\n",
    "\n",
    "def generate_callback_steps(max_step: float):\n",
    "    log_10_max_step = int(1 + np.log10(max_step))\n",
    "    steps = [0, 1, 2, 3, 4]\n",
    "    for magnitude in range(1, log_10_max_step):\n",
    "        steps.extend(np.arange(5 * 10**(magnitude-1), 10**magnitude, 10**(magnitude - 1)))\n",
    "        steps.extend(np.arange(1 * 10**magnitude, 5 * 10**magnitude, 5 * 10**(magnitude - 1)))\n",
    "    steps = np.array(steps)\n",
    "    return steps[steps <= max_step]\n"
   ]
  }
 ],
 "metadata": {
  "kernelspec": {
   "display_name": "fsem",
   "language": "python",
   "name": "python3"
  },
  "language_info": {
   "codemirror_mode": {
    "name": "ipython",
    "version": 3
   },
   "file_extension": ".py",
   "mimetype": "text/x-python",
   "name": "python",
   "nbconvert_exporter": "python",
   "pygments_lexer": "ipython3",
   "version": "3.10.9"
  },
  "orig_nbformat": 4
 },
 "nbformat": 4,
 "nbformat_minor": 2
}
