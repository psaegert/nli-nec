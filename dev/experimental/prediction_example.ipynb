{
 "cells": [
  {
   "cell_type": "code",
   "execution_count": 62,
   "metadata": {},
   "outputs": [],
   "source": [
    "import pandas as pd\n",
    "import numpy as np\n",
    "import os\n",
    "from tqdm import tqdm\n",
    "import matplotlib.pyplot as plt\n",
    "import torch"
   ]
  },
  {
   "cell_type": "code",
   "execution_count": 63,
   "metadata": {},
   "outputs": [],
   "source": [
    "from nlinec import get_positive_data, get_all_types, get_results_dir, get_type, color_palette, get_models_dir, get_granularity, combine_premise_hypothesis, construct_hypothesis\n",
    "from nlinec.predict import predict_heads"
   ]
  },
  {
   "cell_type": "code",
   "execution_count": 64,
   "metadata": {},
   "outputs": [],
   "source": [
    "# Import lognorm\n",
    "from matplotlib.colors import LogNorm\n",
    "\n",
    "dark_viridis = plt.get_cmap('viridis')(0)\n",
    "dark_viridis = (dark_viridis[0] * 0.8, dark_viridis[1] * 0.8, dark_viridis[2] * 0.8, 1)"
   ]
  },
  {
   "cell_type": "markdown",
   "metadata": {},
   "source": [
    "## Setup"
   ]
  },
  {
   "cell_type": "code",
   "execution_count": 65,
   "metadata": {},
   "outputs": [],
   "source": [
    "# Specify the dataset to predict and a file to load the predictions from\n",
    "SPLIT = \"test\"\n",
    "DATASET = f'g_{SPLIT}.json'\n",
    "MODEL = \"nlinec-D-1\"\n",
    "# MODEL = \"roberta-large-mnli\"\n",
    "HYPOTHESIS_ONLY = False\n",
    "\n",
    "DEVICE = torch.device(\"cuda\" if torch.cuda.is_available() else \"cpu\")\n",
    "\n",
    "SAVE_MODEL_TO = os.path.join(get_models_dir(), MODEL)\n",
    "SAVE_PREDICTIONS_TO = os.path.join(get_results_dir(), MODEL, f\"{SPLIT}_predictions\" + (\"_ho\" if HYPOTHESIS_ONLY else \"\") + \".csv\")"
   ]
  },
  {
   "cell_type": "markdown",
   "metadata": {},
   "source": [
    "## Setup "
   ]
  },
  {
   "cell_type": "code",
   "execution_count": 66,
   "metadata": {},
   "outputs": [
    {
     "name": "stderr",
     "output_type": "stream",
     "text": [
      "Loading g_test.json: 8963it [00:00, 42437.73it/s]\n"
     ]
    },
    {
     "data": {
      "text/html": [
       "<div>\n",
       "<style scoped>\n",
       "    .dataframe tbody tr th:only-of-type {\n",
       "        vertical-align: middle;\n",
       "    }\n",
       "\n",
       "    .dataframe tbody tr th {\n",
       "        vertical-align: top;\n",
       "    }\n",
       "\n",
       "    .dataframe thead th {\n",
       "        text-align: right;\n",
       "    }\n",
       "</style>\n",
       "<table border=\"1\" class=\"dataframe\">\n",
       "  <thead>\n",
       "    <tr style=\"text-align: right;\">\n",
       "      <th></th>\n",
       "      <th>mention_span</th>\n",
       "      <th>full_type</th>\n",
       "      <th>sentence</th>\n",
       "      <th>label</th>\n",
       "    </tr>\n",
       "  </thead>\n",
       "  <tbody>\n",
       "    <tr>\n",
       "      <th>0</th>\n",
       "      <td>Valley Federal Savings &amp; Loan Association</td>\n",
       "      <td>[/organization, /organization/company]</td>\n",
       "      <td>Valley Federal Savings &amp; Loan Association sai...</td>\n",
       "      <td>2</td>\n",
       "    </tr>\n",
       "    <tr>\n",
       "      <th>1</th>\n",
       "      <td>Valley Federal</td>\n",
       "      <td>[/organization, /organization/company]</td>\n",
       "      <td>Terms weren't disclosed, but Valley Federal ha...</td>\n",
       "      <td>2</td>\n",
       "    </tr>\n",
       "    <tr>\n",
       "      <th>2</th>\n",
       "      <td>Valley Federal</td>\n",
       "      <td>[/organization, /organization/company]</td>\n",
       "      <td>Valley Federal said Friday that it is conside...</td>\n",
       "      <td>2</td>\n",
       "    </tr>\n",
       "    <tr>\n",
       "      <th>3</th>\n",
       "      <td>Valley Federal , with assets of $ 3.3 billion ,</td>\n",
       "      <td>[/organization, /organization/company]</td>\n",
       "      <td>Valley Federal , with assets of $ 3.3 billion...</td>\n",
       "      <td>2</td>\n",
       "    </tr>\n",
       "    <tr>\n",
       "      <th>4</th>\n",
       "      <td>Imperial Corp. of America</td>\n",
       "      <td>[/organization, /organization/company]</td>\n",
       "      <td>Valley Federal Savings &amp; Loan Association said...</td>\n",
       "      <td>2</td>\n",
       "    </tr>\n",
       "    <tr>\n",
       "      <th>...</th>\n",
       "      <td>...</td>\n",
       "      <td>...</td>\n",
       "      <td>...</td>\n",
       "      <td>...</td>\n",
       "    </tr>\n",
       "    <tr>\n",
       "      <th>8958</th>\n",
       "      <td>Fridays in general , which tend to be strong d...</td>\n",
       "      <td>[/other]</td>\n",
       "      <td>Another study found that the 82 Fridays the 13...</td>\n",
       "      <td>2</td>\n",
       "    </tr>\n",
       "    <tr>\n",
       "      <th>8959</th>\n",
       "      <td>stocks</td>\n",
       "      <td>[/other]</td>\n",
       "      <td>But the date tends to be a plus, not a minus, ...</td>\n",
       "      <td>2</td>\n",
       "    </tr>\n",
       "    <tr>\n",
       "      <th>8960</th>\n",
       "      <td>the 1962 - 85 period</td>\n",
       "      <td>[/other]</td>\n",
       "      <td>But their study, which spanned the 1962 - 85 p...</td>\n",
       "      <td>2</td>\n",
       "    </tr>\n",
       "    <tr>\n",
       "      <th>8961</th>\n",
       "      <td>professors</td>\n",
       "      <td>[/person]</td>\n",
       "      <td>Robert Kolb and Ricardo Rodriguez, professors ...</td>\n",
       "      <td>2</td>\n",
       "    </tr>\n",
       "    <tr>\n",
       "      <th>8962</th>\n",
       "      <td>Just a coincidence</td>\n",
       "      <td>[/other]</td>\n",
       "      <td>Just a coincidence ?</td>\n",
       "      <td>2</td>\n",
       "    </tr>\n",
       "  </tbody>\n",
       "</table>\n",
       "<p>8963 rows × 4 columns</p>\n",
       "</div>"
      ],
      "text/plain": [
       "                                           mention_span  \\\n",
       "0             Valley Federal Savings & Loan Association   \n",
       "1                                        Valley Federal   \n",
       "2                                        Valley Federal   \n",
       "3       Valley Federal , with assets of $ 3.3 billion ,   \n",
       "4                             Imperial Corp. of America   \n",
       "...                                                 ...   \n",
       "8958  Fridays in general , which tend to be strong d...   \n",
       "8959                                             stocks   \n",
       "8960                               the 1962 - 85 period   \n",
       "8961                                         professors   \n",
       "8962                                 Just a coincidence   \n",
       "\n",
       "                                   full_type  \\\n",
       "0     [/organization, /organization/company]   \n",
       "1     [/organization, /organization/company]   \n",
       "2     [/organization, /organization/company]   \n",
       "3     [/organization, /organization/company]   \n",
       "4     [/organization, /organization/company]   \n",
       "...                                      ...   \n",
       "8958                                [/other]   \n",
       "8959                                [/other]   \n",
       "8960                                [/other]   \n",
       "8961                               [/person]   \n",
       "8962                                [/other]   \n",
       "\n",
       "                                               sentence  label  \n",
       "0      Valley Federal Savings & Loan Association sai...      2  \n",
       "1     Terms weren't disclosed, but Valley Federal ha...      2  \n",
       "2      Valley Federal said Friday that it is conside...      2  \n",
       "3      Valley Federal , with assets of $ 3.3 billion...      2  \n",
       "4     Valley Federal Savings & Loan Association said...      2  \n",
       "...                                                 ...    ...  \n",
       "8958  Another study found that the 82 Fridays the 13...      2  \n",
       "8959  But the date tends to be a plus, not a minus, ...      2  \n",
       "8960  But their study, which spanned the 1962 - 85 p...      2  \n",
       "8961  Robert Kolb and Ricardo Rodriguez, professors ...      2  \n",
       "8962                               Just a coincidence ?      2  \n",
       "\n",
       "[8963 rows x 4 columns]"
      ]
     },
     "execution_count": 66,
     "metadata": {},
     "output_type": "execute_result"
    }
   ],
   "source": [
    "positive_data = get_positive_data(DATASET)\n",
    "positive_data"
   ]
  },
  {
   "cell_type": "code",
   "execution_count": 67,
   "metadata": {},
   "outputs": [],
   "source": [
    "gran_types = []\n",
    "for i in [1, 2, 3]:\n",
    "    all_types = get_all_types(granularity=i)\n",
    "    all_types['granularity'] = all_types['full_type'].apply(lambda x: get_granularity(x))\n",
    "    gran_types.append(all_types[all_types['granularity'] == i])"
   ]
  },
  {
   "cell_type": "code",
   "execution_count": 68,
   "metadata": {},
   "outputs": [],
   "source": [
    "# Get the predictions\n",
    "predictions_df = pd.read_csv(SAVE_PREDICTIONS_TO, index_col=0)\n",
    "\n",
    "# Combine the predictions with the original data based on the index\n",
    "data_with_predictions = positive_data.join(predictions_df).explode('full_type')\n",
    "\n",
    "# Add the granularity of the type\n",
    "data_with_predictions['granularity'] = data_with_predictions['full_type'].apply(get_granularity)\n",
    "\n",
    "# Reset the index\n",
    "data_with_predictions.reset_index(drop=True, inplace=True)"
   ]
  },
  {
   "cell_type": "code",
   "execution_count": 69,
   "metadata": {},
   "outputs": [],
   "source": [
    "# data_with_predictions.drop_duplicates(subset=['full_type', 'mention_span'])"
   ]
  },
  {
   "cell_type": "code",
   "execution_count": 70,
   "metadata": {},
   "outputs": [],
   "source": [
    "# Compute the predicted type for each granularity\n",
    "for i in [1, 2, 3]:\n",
    "    # Get the rows where the correct type has the correct granularity\n",
    "    granularity_mask = data_with_predictions['granularity'] == i\n",
    "\n",
    "    # Add a new column which stores the predicted type (i.e. the the name of the column with the maximum probability)\n",
    "    data_with_predictions.loc[granularity_mask, 'predicted_type'] = data_with_predictions.loc[granularity_mask, list(gran_types[i - 1]['full_type'])].idxmax(axis=1)\n",
    "    \n",
    "    # Add a column that stores if the prediction was correct\n",
    "    data_with_predictions.loc[granularity_mask, 'correct'] = data_with_predictions.loc[granularity_mask, 'predicted_type'] == data_with_predictions.loc[granularity_mask, 'full_type']"
   ]
  },
  {
   "cell_type": "code",
   "execution_count": 71,
   "metadata": {},
   "outputs": [],
   "source": [
    "short_mask = data_with_predictions['sentence'].apply(len) <= 50"
   ]
  },
  {
   "cell_type": "code",
   "execution_count": 72,
   "metadata": {},
   "outputs": [],
   "source": [
    "index = 138"
   ]
  },
  {
   "cell_type": "code",
   "execution_count": 73,
   "metadata": {},
   "outputs": [
    {
     "data": {
      "text/plain": [
       "sentence           A new president wasn't named.\n",
       "mention_span                     A new president\n",
       "full_type                                /person\n",
       "predicted_type                           /person\n",
       "correct                                     True\n",
       "/other                                  0.036021\n",
       "/person                                 0.920342\n",
       "/location                               0.002709\n",
       "/organization                           0.027321\n",
       "Name: 138, dtype: object"
      ]
     },
     "execution_count": 73,
     "metadata": {},
     "output_type": "execute_result"
    }
   ],
   "source": [
    "data_with_predictions.loc[index, ['sentence', 'mention_span', 'full_type', 'predicted_type', 'correct', '/other', '/person', '/location', '/organization']]"
   ]
  },
  {
   "cell_type": "code",
   "execution_count": 74,
   "metadata": {},
   "outputs": [],
   "source": [
    "from transformers import AutoTokenizer, AutoModelForSequenceClassification"
   ]
  },
  {
   "cell_type": "code",
   "execution_count": 75,
   "metadata": {},
   "outputs": [],
   "source": [
    "tokenizer = AutoTokenizer.from_pretrained('roberta-large-mnli')\n",
    "\n",
    "if MODEL == 'roberta-large-mnli':\n",
    "    model = AutoModelForSequenceClassification.from_pretrained(MODEL).to(DEVICE)\n",
    "else:\n",
    "    model = AutoModelForSequenceClassification.from_pretrained(SAVE_MODEL_TO).to(DEVICE)"
   ]
  },
  {
   "cell_type": "code",
   "execution_count": 80,
   "metadata": {},
   "outputs": [
    {
     "data": {
      "text/plain": [
       "\" A new president wasn't named.</s><s>A new president is a [type].\""
      ]
     },
     "execution_count": 80,
     "metadata": {},
     "output_type": "execute_result"
    }
   ],
   "source": [
    "combine_premise_hypothesis(\n",
    "    premise=data_with_predictions.loc[index, 'sentence'],\n",
    "    hypothesis=construct_hypothesis(\n",
    "        entity=data_with_predictions.loc[index, 'mention_span'],\n",
    "        type='[type]',\n",
    "    ),\n",
    "    hypothesis_only=HYPOTHESIS_ONLY\n",
    ")"
   ]
  },
  {
   "cell_type": "code",
   "execution_count": 76,
   "metadata": {},
   "outputs": [],
   "source": [
    "probabilities = {type_:\n",
    "    predict_heads(\n",
    "        model,\n",
    "        tokenizer,\n",
    "        combine_premise_hypothesis(\n",
    "            premise=data_with_predictions.loc[index, 'sentence'],\n",
    "            hypothesis=construct_hypothesis(\n",
    "                entity=data_with_predictions.loc[index, 'mention_span'],\n",
    "                type=type_,\n",
    "            ),\n",
    "            hypothesis_only=HYPOTHESIS_ONLY\n",
    "        ))[0]\n",
    "for type_ in ['other', 'person', 'location', 'organization']}"
   ]
  },
  {
   "cell_type": "code",
   "execution_count": 77,
   "metadata": {},
   "outputs": [
    {
     "data": {
      "text/plain": [
       "{'other': array([2.7951819e-04, 9.6369970e-01, 3.6020804e-02], dtype=float32),\n",
       " 'person': array([3.2144846e-04, 7.9337031e-02, 9.2034149e-01], dtype=float32),\n",
       " 'location': array([0.00191595, 0.9953752 , 0.0027089 ], dtype=float32),\n",
       " 'organization': array([3.1682427e-04, 9.7236246e-01, 2.7320687e-02], dtype=float32)}"
      ]
     },
     "execution_count": 77,
     "metadata": {},
     "output_type": "execute_result"
    }
   ],
   "source": [
    "probabilities"
   ]
  },
  {
   "cell_type": "code",
   "execution_count": 78,
   "metadata": {},
   "outputs": [
    {
     "data": {
      "text/html": [
       "<div>\n",
       "<style scoped>\n",
       "    .dataframe tbody tr th:only-of-type {\n",
       "        vertical-align: middle;\n",
       "    }\n",
       "\n",
       "    .dataframe tbody tr th {\n",
       "        vertical-align: top;\n",
       "    }\n",
       "\n",
       "    .dataframe thead th {\n",
       "        text-align: right;\n",
       "    }\n",
       "</style>\n",
       "<table border=\"1\" class=\"dataframe\">\n",
       "  <thead>\n",
       "    <tr style=\"text-align: right;\">\n",
       "      <th></th>\n",
       "      <th>other</th>\n",
       "      <th>person</th>\n",
       "      <th>location</th>\n",
       "      <th>organization</th>\n",
       "    </tr>\n",
       "  </thead>\n",
       "  <tbody>\n",
       "    <tr>\n",
       "      <th>CONTRADICTION</th>\n",
       "      <td>0.000280</td>\n",
       "      <td>0.000321</td>\n",
       "      <td>0.001916</td>\n",
       "      <td>0.000317</td>\n",
       "    </tr>\n",
       "    <tr>\n",
       "      <th>NEUTRAL</th>\n",
       "      <td>0.963700</td>\n",
       "      <td>0.079337</td>\n",
       "      <td>0.995375</td>\n",
       "      <td>0.972362</td>\n",
       "    </tr>\n",
       "    <tr>\n",
       "      <th>ENTAILMENT</th>\n",
       "      <td>0.036021</td>\n",
       "      <td>0.920341</td>\n",
       "      <td>0.002709</td>\n",
       "      <td>0.027321</td>\n",
       "    </tr>\n",
       "  </tbody>\n",
       "</table>\n",
       "</div>"
      ],
      "text/plain": [
       "                  other    person  location  organization\n",
       "CONTRADICTION  0.000280  0.000321  0.001916      0.000317\n",
       "NEUTRAL        0.963700  0.079337  0.995375      0.972362\n",
       "ENTAILMENT     0.036021  0.920341  0.002709      0.027321"
      ]
     },
     "execution_count": 78,
     "metadata": {},
     "output_type": "execute_result"
    }
   ],
   "source": [
    "pd.DataFrame(probabilities, index=model.config.id2label.values())"
   ]
  }
 ],
 "metadata": {
  "kernelspec": {
   "display_name": "nlinec",
   "language": "python",
   "name": "python3"
  },
  "language_info": {
   "codemirror_mode": {
    "name": "ipython",
    "version": 3
   },
   "file_extension": ".py",
   "mimetype": "text/x-python",
   "name": "python",
   "nbconvert_exporter": "python",
   "pygments_lexer": "ipython3",
   "version": "3.10.10"
  },
  "orig_nbformat": 4
 },
 "nbformat": 4,
 "nbformat_minor": 2
}
