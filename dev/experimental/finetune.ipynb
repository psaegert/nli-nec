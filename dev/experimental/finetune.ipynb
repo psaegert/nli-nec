{
 "cells": [
  {
   "cell_type": "code",
   "execution_count": 2,
   "metadata": {},
   "outputs": [],
   "source": [
    "from nlinec import get_positive_data, get_negative_data, combine_positive_negative_data, construct_hypothesis, get_type"
   ]
  },
  {
   "cell_type": "code",
   "execution_count": 6,
   "metadata": {},
   "outputs": [
    {
     "name": "stderr",
     "output_type": "stream",
     "text": [
      "Loading augmented_train.json: 793487it [00:14, 54796.09it/s] \n"
     ]
    },
    {
     "name": "stdout",
     "output_type": "stream",
     "text": [
      "Loading negative data from /home/psaegert/Projects/nli-nec/src/nlinec/../../data/derived/negative_data/augmented_train.json_42.csv...\n"
     ]
    }
   ],
   "source": [
    "positive_data = get_positive_data('augmented_train.json', explode=True)\n",
    "negative_data = get_negative_data(random_state=42)\n",
    "data = combine_positive_negative_data(positive_data, negative_data, frac=0.5, random_state=42)\n",
    "del positive_data, negative_data"
   ]
  },
  {
   "cell_type": "code",
   "execution_count": 7,
   "metadata": {},
   "outputs": [
    {
     "data": {
      "text/html": [
       "<div>\n",
       "<style scoped>\n",
       "    .dataframe tbody tr th:only-of-type {\n",
       "        vertical-align: middle;\n",
       "    }\n",
       "\n",
       "    .dataframe tbody tr th {\n",
       "        vertical-align: top;\n",
       "    }\n",
       "\n",
       "    .dataframe thead th {\n",
       "        text-align: right;\n",
       "    }\n",
       "</style>\n",
       "<table border=\"1\" class=\"dataframe\">\n",
       "  <thead>\n",
       "    <tr style=\"text-align: right;\">\n",
       "      <th></th>\n",
       "      <th>full_type</th>\n",
       "      <th>mention_span</th>\n",
       "      <th>sentence</th>\n",
       "      <th>granularity</th>\n",
       "      <th>label</th>\n",
       "    </tr>\n",
       "  </thead>\n",
       "  <tbody>\n",
       "    <tr>\n",
       "      <th>0</th>\n",
       "      <td>/person</td>\n",
       "      <td>the history and science of aviation and spacef...</td>\n",
       "      <td>Located in Washington, D.C., United States, it...</td>\n",
       "      <td>1</td>\n",
       "      <td>1</td>\n",
       "    </tr>\n",
       "    <tr>\n",
       "      <th>1</th>\n",
       "      <td>/other</td>\n",
       "      <td>his debut</td>\n",
       "      <td>The seventh child of the Jackson family, he ma...</td>\n",
       "      <td>1</td>\n",
       "      <td>2</td>\n",
       "    </tr>\n",
       "    <tr>\n",
       "      <th>2</th>\n",
       "      <td>/location/country</td>\n",
       "      <td>We</td>\n",
       "      <td>We did not do anything at that time.</td>\n",
       "      <td>2</td>\n",
       "      <td>2</td>\n",
       "    </tr>\n",
       "    <tr>\n",
       "      <th>3</th>\n",
       "      <td>/location</td>\n",
       "      <td>We</td>\n",
       "      <td>We did not do anything at that time.</td>\n",
       "      <td>1</td>\n",
       "      <td>2</td>\n",
       "    </tr>\n",
       "    <tr>\n",
       "      <th>4</th>\n",
       "      <td>/organization</td>\n",
       "      <td>antibody</td>\n",
       "      <td>`` We don't know the effect of our antibody on...</td>\n",
       "      <td>1</td>\n",
       "      <td>1</td>\n",
       "    </tr>\n",
       "    <tr>\n",
       "      <th>...</th>\n",
       "      <td>...</td>\n",
       "      <td>...</td>\n",
       "      <td>...</td>\n",
       "      <td>...</td>\n",
       "      <td>...</td>\n",
       "    </tr>\n",
       "    <tr>\n",
       "      <th>1865003</th>\n",
       "      <td>/other/art/film</td>\n",
       "      <td>his films</td>\n",
       "      <td>As a boy, he donated his Bar Mitzvah money to ...</td>\n",
       "      <td>3</td>\n",
       "      <td>2</td>\n",
       "    </tr>\n",
       "    <tr>\n",
       "      <th>1865004</th>\n",
       "      <td>/other</td>\n",
       "      <td>his films</td>\n",
       "      <td>As a boy, he donated his Bar Mitzvah money to ...</td>\n",
       "      <td>1</td>\n",
       "      <td>2</td>\n",
       "    </tr>\n",
       "    <tr>\n",
       "      <th>1865005</th>\n",
       "      <td>/other/art</td>\n",
       "      <td>his films</td>\n",
       "      <td>As a boy, he donated his Bar Mitzvah money to ...</td>\n",
       "      <td>2</td>\n",
       "      <td>2</td>\n",
       "    </tr>\n",
       "    <tr>\n",
       "      <th>1865006</th>\n",
       "      <td>/other/health</td>\n",
       "      <td>Japanese martial arts classes such as Aikido ,...</td>\n",
       "      <td>Sensei is often used to address the teacher in...</td>\n",
       "      <td>2</td>\n",
       "      <td>1</td>\n",
       "    </tr>\n",
       "    <tr>\n",
       "      <th>1865007</th>\n",
       "      <td>/location</td>\n",
       "      <td>Japanese martial arts classes such as Aikido ,...</td>\n",
       "      <td>Sensei is often used to address the teacher in...</td>\n",
       "      <td>1</td>\n",
       "      <td>1</td>\n",
       "    </tr>\n",
       "  </tbody>\n",
       "</table>\n",
       "<p>1865008 rows × 5 columns</p>\n",
       "</div>"
      ],
      "text/plain": [
       "                 full_type  ... label\n",
       "0                  /person  ...     1\n",
       "1                   /other  ...     2\n",
       "2        /location/country  ...     2\n",
       "3                /location  ...     2\n",
       "4            /organization  ...     1\n",
       "...                    ...  ...   ...\n",
       "1865003    /other/art/film  ...     2\n",
       "1865004             /other  ...     2\n",
       "1865005         /other/art  ...     2\n",
       "1865006      /other/health  ...     1\n",
       "1865007          /location  ...     1\n",
       "\n",
       "[1865008 rows x 5 columns]"
      ]
     },
     "execution_count": 7,
     "metadata": {},
     "output_type": "execute_result"
    }
   ],
   "source": [
    "data"
   ]
  }
 ],
 "metadata": {
  "kernelspec": {
   "display_name": "fsem",
   "language": "python",
   "name": "python3"
  },
  "language_info": {
   "codemirror_mode": {
    "name": "ipython",
    "version": 3
   },
   "file_extension": ".py",
   "mimetype": "text/x-python",
   "name": "python",
   "nbconvert_exporter": "python",
   "pygments_lexer": "ipython3",
   "version": "3.10.9"
  },
  "orig_nbformat": 4
 },
 "nbformat": 4,
 "nbformat_minor": 2
}
