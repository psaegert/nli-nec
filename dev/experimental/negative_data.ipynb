{
 "cells": [
  {
   "cell_type": "code",
   "execution_count": 1,
   "metadata": {},
   "outputs": [],
   "source": [
    "from nlinec.data.load import load_data, get_all_types\n",
    "from nlinec.data.preprocessing import get_granularity"
   ]
  },
  {
   "cell_type": "code",
   "execution_count": 4,
   "metadata": {},
   "outputs": [
    {
     "name": "stderr",
     "output_type": "stream",
     "text": [
      "793487it [00:11, 67290.47it/s] \n"
     ]
    }
   ],
   "source": [
    "data = load_data('augmented_train.json', explode=True)"
   ]
  },
  {
   "cell_type": "code",
   "execution_count": 7,
   "metadata": {},
   "outputs": [],
   "source": [
    "data['granularity'] = data['full_type'].apply(get_granularity)"
   ]
  },
  {
   "cell_type": "code",
   "execution_count": 8,
   "metadata": {},
   "outputs": [
    {
     "data": {
      "text/html": [
       "<div>\n",
       "<style scoped>\n",
       "    .dataframe tbody tr th:only-of-type {\n",
       "        vertical-align: middle;\n",
       "    }\n",
       "\n",
       "    .dataframe tbody tr th {\n",
       "        vertical-align: top;\n",
       "    }\n",
       "\n",
       "    .dataframe thead th {\n",
       "        text-align: right;\n",
       "    }\n",
       "</style>\n",
       "<table border=\"1\" class=\"dataframe\">\n",
       "  <thead>\n",
       "    <tr style=\"text-align: right;\">\n",
       "      <th></th>\n",
       "      <th>full_type</th>\n",
       "      <th>mention_span</th>\n",
       "      <th>sentence</th>\n",
       "      <th>granularity</th>\n",
       "    </tr>\n",
       "  </thead>\n",
       "  <tbody>\n",
       "    <tr>\n",
       "      <th>0</th>\n",
       "      <td>/other</td>\n",
       "      <td>the history and science of aviation and spacef...</td>\n",
       "      <td>Located in Washington, D.C., United States, it...</td>\n",
       "      <td>1</td>\n",
       "    </tr>\n",
       "    <tr>\n",
       "      <th>1</th>\n",
       "      <td>/other</td>\n",
       "      <td>his debut</td>\n",
       "      <td>The seventh child of the Jackson family, he ma...</td>\n",
       "      <td>1</td>\n",
       "    </tr>\n",
       "    <tr>\n",
       "      <th>2</th>\n",
       "      <td>/location/country</td>\n",
       "      <td>We</td>\n",
       "      <td>We did not do anything at that time.</td>\n",
       "      <td>2</td>\n",
       "    </tr>\n",
       "    <tr>\n",
       "      <th>3</th>\n",
       "      <td>/location</td>\n",
       "      <td>We</td>\n",
       "      <td>We did not do anything at that time.</td>\n",
       "      <td>1</td>\n",
       "    </tr>\n",
       "    <tr>\n",
       "      <th>4</th>\n",
       "      <td>/other</td>\n",
       "      <td>antibody</td>\n",
       "      <td>`` We don't know the effect of our antibody on...</td>\n",
       "      <td>1</td>\n",
       "    </tr>\n",
       "    <tr>\n",
       "      <th>...</th>\n",
       "      <td>...</td>\n",
       "      <td>...</td>\n",
       "      <td>...</td>\n",
       "      <td>...</td>\n",
       "    </tr>\n",
       "    <tr>\n",
       "      <th>1865003</th>\n",
       "      <td>/other/art/film</td>\n",
       "      <td>his films</td>\n",
       "      <td>As a boy, he donated his Bar Mitzvah money to ...</td>\n",
       "      <td>3</td>\n",
       "    </tr>\n",
       "    <tr>\n",
       "      <th>1865004</th>\n",
       "      <td>/other</td>\n",
       "      <td>his films</td>\n",
       "      <td>As a boy, he donated his Bar Mitzvah money to ...</td>\n",
       "      <td>1</td>\n",
       "    </tr>\n",
       "    <tr>\n",
       "      <th>1865005</th>\n",
       "      <td>/other/art</td>\n",
       "      <td>his films</td>\n",
       "      <td>As a boy, he donated his Bar Mitzvah money to ...</td>\n",
       "      <td>2</td>\n",
       "    </tr>\n",
       "    <tr>\n",
       "      <th>1865006</th>\n",
       "      <td>/other/art</td>\n",
       "      <td>Japanese martial arts classes such as Aikido ,...</td>\n",
       "      <td>Sensei is often used to address the teacher in...</td>\n",
       "      <td>2</td>\n",
       "    </tr>\n",
       "    <tr>\n",
       "      <th>1865007</th>\n",
       "      <td>/other</td>\n",
       "      <td>Japanese martial arts classes such as Aikido ,...</td>\n",
       "      <td>Sensei is often used to address the teacher in...</td>\n",
       "      <td>1</td>\n",
       "    </tr>\n",
       "  </tbody>\n",
       "</table>\n",
       "<p>1865008 rows × 4 columns</p>\n",
       "</div>"
      ],
      "text/plain": [
       "                 full_type                                       mention_span  \\\n",
       "0                   /other  the history and science of aviation and spacef...   \n",
       "1                   /other                                          his debut   \n",
       "2        /location/country                                                 We   \n",
       "3                /location                                                 We   \n",
       "4                   /other                                           antibody   \n",
       "...                    ...                                                ...   \n",
       "1865003    /other/art/film                                          his films   \n",
       "1865004             /other                                          his films   \n",
       "1865005         /other/art                                          his films   \n",
       "1865006         /other/art  Japanese martial arts classes such as Aikido ,...   \n",
       "1865007             /other  Japanese martial arts classes such as Aikido ,...   \n",
       "\n",
       "                                                  sentence  granularity  \n",
       "0        Located in Washington, D.C., United States, it...            1  \n",
       "1        The seventh child of the Jackson family, he ma...            1  \n",
       "2                     We did not do anything at that time.            2  \n",
       "3                     We did not do anything at that time.            1  \n",
       "4        `` We don't know the effect of our antibody on...            1  \n",
       "...                                                    ...          ...  \n",
       "1865003  As a boy, he donated his Bar Mitzvah money to ...            3  \n",
       "1865004  As a boy, he donated his Bar Mitzvah money to ...            1  \n",
       "1865005  As a boy, he donated his Bar Mitzvah money to ...            2  \n",
       "1865006  Sensei is often used to address the teacher in...            2  \n",
       "1865007  Sensei is often used to address the teacher in...            1  \n",
       "\n",
       "[1865008 rows x 4 columns]"
      ]
     },
     "execution_count": 8,
     "metadata": {},
     "output_type": "execute_result"
    }
   ],
   "source": [
    "data"
   ]
  },
  {
   "cell_type": "code",
   "execution_count": 2,
   "metadata": {},
   "outputs": [
    {
     "name": "stderr",
     "output_type": "stream",
     "text": [
      "251039it [00:03, 69644.45it/s]\n"
     ]
    },
    {
     "ename": "TypeError",
     "evalue": "unhashable type: 'list'",
     "output_type": "error",
     "traceback": [
      "\u001b[0;31m---------------------------------------------------------------------------\u001b[0m",
      "\u001b[0;31mTypeError\u001b[0m                                 Traceback (most recent call last)",
      "Cell \u001b[0;32mIn[2], line 3\u001b[0m\n\u001b[1;32m      1\u001b[0m gran_types \u001b[39m=\u001b[39m []\n\u001b[1;32m      2\u001b[0m \u001b[39mfor\u001b[39;00m i \u001b[39min\u001b[39;00m [\u001b[39m1\u001b[39m, \u001b[39m2\u001b[39m, \u001b[39m3\u001b[39m]:\n\u001b[0;32m----> 3\u001b[0m     gran_types\u001b[39m.\u001b[39mappend(get_all_types(granularity\u001b[39m=\u001b[39;49mi))\n",
      "File \u001b[0;32m~/Projects/nli-nec/src/nlinec/data/load.py:129\u001b[0m, in \u001b[0;36mget_all_types\u001b[0;34m(granularity)\u001b[0m\n\u001b[1;32m    126\u001b[0m \u001b[39melse\u001b[39;00m:\n\u001b[1;32m    127\u001b[0m     \u001b[39m# If the file doesn't exist, take the types from the training data and save them\u001b[39;00m\n\u001b[1;32m    128\u001b[0m     train_data \u001b[39m=\u001b[39m load_data(\u001b[39m'\u001b[39m\u001b[39mg_train.json\u001b[39m\u001b[39m'\u001b[39m)\n\u001b[0;32m--> 129\u001b[0m     all_types \u001b[39m=\u001b[39m pd\u001b[39m.\u001b[39mDataFrame(train_data[\u001b[39m'\u001b[39;49m\u001b[39mfull_type\u001b[39;49m\u001b[39m'\u001b[39;49m]\u001b[39m.\u001b[39;49munique(), columns\u001b[39m=\u001b[39m[\u001b[39m'\u001b[39m\u001b[39mfull_type\u001b[39m\u001b[39m'\u001b[39m])\n\u001b[1;32m    131\u001b[0m     \u001b[39m# Save the types to a file\u001b[39;00m\n\u001b[1;32m    132\u001b[0m     all_types\u001b[39m.\u001b[39mto_csv(all_types_path, index\u001b[39m=\u001b[39m\u001b[39mFalse\u001b[39;00m)\n",
      "File \u001b[0;32m~/miniconda3/envs/fsem/lib/python3.10/site-packages/pandas/core/series.py:2242\u001b[0m, in \u001b[0;36mSeries.unique\u001b[0;34m(self)\u001b[0m\n\u001b[1;32m   2183\u001b[0m \u001b[39mdef\u001b[39;00m \u001b[39munique\u001b[39m(\u001b[39mself\u001b[39m) \u001b[39m-\u001b[39m\u001b[39m>\u001b[39m ArrayLike:\n\u001b[1;32m   2184\u001b[0m     \u001b[39m\"\"\"\u001b[39;00m\n\u001b[1;32m   2185\u001b[0m \u001b[39m    Return unique values of Series object.\u001b[39;00m\n\u001b[1;32m   2186\u001b[0m \n\u001b[0;32m   (...)\u001b[0m\n\u001b[1;32m   2240\u001b[0m \u001b[39m    Categories (3, object): ['a' < 'b' < 'c']\u001b[39;00m\n\u001b[1;32m   2241\u001b[0m \u001b[39m    \"\"\"\u001b[39;00m\n\u001b[0;32m-> 2242\u001b[0m     \u001b[39mreturn\u001b[39;00m \u001b[39msuper\u001b[39;49m()\u001b[39m.\u001b[39;49munique()\n",
      "File \u001b[0;32m~/miniconda3/envs/fsem/lib/python3.10/site-packages/pandas/core/base.py:1001\u001b[0m, in \u001b[0;36mIndexOpsMixin.unique\u001b[0;34m(self)\u001b[0m\n\u001b[1;32m    999\u001b[0m         result \u001b[39m=\u001b[39m np\u001b[39m.\u001b[39masarray(result)\n\u001b[1;32m   1000\u001b[0m \u001b[39melse\u001b[39;00m:\n\u001b[0;32m-> 1001\u001b[0m     result \u001b[39m=\u001b[39m unique1d(values)\n\u001b[1;32m   1003\u001b[0m \u001b[39mreturn\u001b[39;00m result\n",
      "File \u001b[0;32m~/miniconda3/envs/fsem/lib/python3.10/site-packages/pandas/core/algorithms.py:409\u001b[0m, in \u001b[0;36munique\u001b[0;34m(values)\u001b[0m\n\u001b[1;32m    315\u001b[0m \u001b[39mdef\u001b[39;00m \u001b[39munique\u001b[39m(values):\n\u001b[1;32m    316\u001b[0m     \u001b[39m\"\"\"\u001b[39;00m\n\u001b[1;32m    317\u001b[0m \u001b[39m    Return unique values based on a hash table.\u001b[39;00m\n\u001b[1;32m    318\u001b[0m \n\u001b[0;32m   (...)\u001b[0m\n\u001b[1;32m    407\u001b[0m \u001b[39m    array([('a', 'b'), ('b', 'a'), ('a', 'c')], dtype=object)\u001b[39;00m\n\u001b[1;32m    408\u001b[0m \u001b[39m    \"\"\"\u001b[39;00m\n\u001b[0;32m--> 409\u001b[0m     \u001b[39mreturn\u001b[39;00m unique_with_mask(values)\n",
      "File \u001b[0;32m~/miniconda3/envs/fsem/lib/python3.10/site-packages/pandas/core/algorithms.py:425\u001b[0m, in \u001b[0;36munique_with_mask\u001b[0;34m(values, mask)\u001b[0m\n\u001b[1;32m    423\u001b[0m table \u001b[39m=\u001b[39m htable(\u001b[39mlen\u001b[39m(values))\n\u001b[1;32m    424\u001b[0m \u001b[39mif\u001b[39;00m mask \u001b[39mis\u001b[39;00m \u001b[39mNone\u001b[39;00m:\n\u001b[0;32m--> 425\u001b[0m     uniques \u001b[39m=\u001b[39m table\u001b[39m.\u001b[39;49munique(values)\n\u001b[1;32m    426\u001b[0m     uniques \u001b[39m=\u001b[39m _reconstruct_data(uniques, original\u001b[39m.\u001b[39mdtype, original)\n\u001b[1;32m    427\u001b[0m     \u001b[39mreturn\u001b[39;00m uniques\n",
      "File \u001b[0;32mpandas/_libs/hashtable_class_helper.pxi:5910\u001b[0m, in \u001b[0;36mpandas._libs.hashtable.PyObjectHashTable.unique\u001b[0;34m()\u001b[0m\n",
      "File \u001b[0;32mpandas/_libs/hashtable_class_helper.pxi:5857\u001b[0m, in \u001b[0;36mpandas._libs.hashtable.PyObjectHashTable._unique\u001b[0;34m()\u001b[0m\n",
      "\u001b[0;31mTypeError\u001b[0m: unhashable type: 'list'"
     ]
    }
   ],
   "source": [
    "gran_types = []\n",
    "for i in [1, 2, 3]:\n",
    "    gran_types.append(get_all_types(granularity=i))"
   ]
  },
  {
   "cell_type": "code",
   "execution_count": null,
   "metadata": {},
   "outputs": [],
   "source": []
  }
 ],
 "metadata": {
  "kernelspec": {
   "display_name": "fsem",
   "language": "python",
   "name": "python3"
  },
  "language_info": {
   "codemirror_mode": {
    "name": "ipython",
    "version": 3
   },
   "file_extension": ".py",
   "mimetype": "text/x-python",
   "name": "python",
   "nbconvert_exporter": "python",
   "pygments_lexer": "ipython3",
   "version": "3.10.9"
  },
  "orig_nbformat": 4
 },
 "nbformat": 4,
 "nbformat_minor": 2
}
