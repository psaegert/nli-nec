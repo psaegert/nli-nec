{
 "cells": [
  {
   "cell_type": "code",
   "execution_count": 1,
   "metadata": {},
   "outputs": [
    {
     "name": "stderr",
     "output_type": "stream",
     "text": [
      "/home/psaegert/miniconda3/envs/fsem/lib/python3.10/site-packages/tqdm/auto.py:22: TqdmWarning: IProgress not found. Please update jupyter and ipywidgets. See https://ipywidgets.readthedocs.io/en/stable/user_install.html\n",
      "  from .autonotebook import tqdm as notebook_tqdm\n"
     ]
    }
   ],
   "source": [
    "from transformers import AutoTokenizer, AutoModelForSequenceClassification\n",
    "import numpy as np\n",
    "\n",
    "from nlinec.predict import predict_heads, predict_probabilities, predict_type"
   ]
  },
  {
   "cell_type": "code",
   "execution_count": 2,
   "metadata": {},
   "outputs": [
    {
     "name": "stderr",
     "output_type": "stream",
     "text": [
      "Some weights of the model checkpoint at roberta-large-mnli were not used when initializing RobertaForSequenceClassification: ['roberta.pooler.dense.weight', 'roberta.pooler.dense.bias']\n",
      "- This IS expected if you are initializing RobertaForSequenceClassification from the checkpoint of a model trained on another task or with another architecture (e.g. initializing a BertForSequenceClassification model from a BertForPreTraining model).\n",
      "- This IS NOT expected if you are initializing RobertaForSequenceClassification from the checkpoint of a model that you expect to be exactly identical (initializing a BertForSequenceClassification model from a BertForSequenceClassification model).\n"
     ]
    }
   ],
   "source": [
    "tokenizer = AutoTokenizer.from_pretrained(\"roberta-large-mnli\")\n",
    "model = AutoModelForSequenceClassification.from_pretrained(\"roberta-large-mnli\")"
   ]
  },
  {
   "cell_type": "code",
   "execution_count": 3,
   "metadata": {},
   "outputs": [
    {
     "data": {
      "text/plain": [
       "tensor([    0, 46797,  2788,     2])"
      ]
     },
     "execution_count": 3,
     "metadata": {},
     "output_type": "execute_result"
    }
   ],
   "source": [
    "input_ids = tokenizer('input text', return_tensors=\"pt\", add_special_tokens=True)['input_ids'][0]\n",
    "input_ids"
   ]
  },
  {
   "cell_type": "code",
   "execution_count": 4,
   "metadata": {},
   "outputs": [
    {
     "data": {
      "text/plain": [
       "'<s>input text</s>'"
      ]
     },
     "execution_count": 4,
     "metadata": {},
     "output_type": "execute_result"
    }
   ],
   "source": [
    "# Decode the tokens of the sequence\n",
    "tokenizer.decode(input_ids)"
   ]
  },
  {
   "cell_type": "code",
   "execution_count": 5,
   "metadata": {},
   "outputs": [],
   "source": [
    "# roberta uses <s> and </s> as special tokens"
   ]
  },
  {
   "cell_type": "code",
   "execution_count": 6,
   "metadata": {},
   "outputs": [
    {
     "data": {
      "text/plain": [
       "tensor([    0, 46797,  2788,     2,     0, 30303,  2788,     2])"
      ]
     },
     "execution_count": 6,
     "metadata": {},
     "output_type": "execute_result"
    }
   ],
   "source": [
    "input_ids = tokenizer('input text</s><s>another text', return_tensors=\"pt\", add_special_tokens=True)['input_ids'][0]\n",
    "input_ids"
   ]
  },
  {
   "cell_type": "code",
   "execution_count": 7,
   "metadata": {},
   "outputs": [],
   "source": [
    "premise = 'President Obama is speaking at the White House.'"
   ]
  },
  {
   "cell_type": "code",
   "execution_count": 8,
   "metadata": {},
   "outputs": [],
   "source": [
    "input_text = [\n",
    "    f'{premise}' + '</s><s>' + 'Barack Obama is a president.',\n",
    "    f'{premise}' + '</s><s>' + 'Mike bought a new car yesterday.',\n",
    "    f'{premise}' + '</s><s>' + 'Barack Obama is speaking at the Black House.'\n",
    "]"
   ]
  },
  {
   "cell_type": "code",
   "execution_count": 9,
   "metadata": {},
   "outputs": [
    {
     "data": {
      "text/plain": [
       "array([[2.7289167e-03, 2.3182165e-02, 9.7408891e-01],\n",
       "       [5.5945998e-01, 3.7343305e-01, 6.7107014e-02],\n",
       "       [9.9855858e-01, 9.4705133e-04, 4.9432134e-04]], dtype=float32)"
      ]
     },
     "execution_count": 9,
     "metadata": {},
     "output_type": "execute_result"
    }
   ],
   "source": [
    "predict_heads(model, tokenizer, input_text)"
   ]
  },
  {
   "cell_type": "code",
   "execution_count": 10,
   "metadata": {},
   "outputs": [
    {
     "data": {
      "text/plain": [
       "array([[[0.02397741, 0.04429863, 0.93172395],\n",
       "        [0.0764203 , 0.12303857, 0.80054116],\n",
       "        [0.03229134, 0.09190603, 0.87580258],\n",
       "        [0.97510999, 0.01856656, 0.00632342],\n",
       "        [0.47939527, 0.13846022, 0.38214445],\n",
       "        [0.00402811, 0.14204757, 0.85392439]],\n",
       "\n",
       "       [[0.98007125, 0.01074546, 0.00918332],\n",
       "        [0.27966234, 0.25505066, 0.465287  ],\n",
       "        [0.00373707, 0.07182994, 0.92443299],\n",
       "        [0.00322229, 0.02629043, 0.9704873 ],\n",
       "        [0.17918728, 0.28542724, 0.53538549],\n",
       "        [0.59493619, 0.39796174, 0.00710202]]])"
      ]
     },
     "execution_count": 10,
     "metadata": {},
     "output_type": "execute_result"
    }
   ],
   "source": [
    "predict_probabilities(model, tokenizer, sentence=[\n",
    "    'President Obama is speaking at the White House.',\n",
    "    'The farmer John talked about has a donkey named Fred.'\n",
    "], entity=[\n",
    "    'Obama',\n",
    "    'Fred'\n",
    "], types=['person', 'place', 'thing', 'animal', 'other', 'political figure'])"
   ]
  },
  {
   "cell_type": "code",
   "execution_count": 11,
   "metadata": {},
   "outputs": [
    {
     "data": {
      "text/plain": [
       "array([[[0.01506855, 0.07934306, 0.24197731],\n",
       "        [0.04802616, 0.2203738 , 0.20790793],\n",
       "        [0.02029342, 0.16461247, 0.22745402],\n",
       "        [0.61280559, 0.03325447, 0.00164225],\n",
       "        [0.30127483, 0.24799545, 0.09924644],\n",
       "        [0.00253146, 0.25442074, 0.22177205]],\n",
       "\n",
       "       [[0.48023489, 0.0102601 , 0.00315374],\n",
       "        [0.13703454, 0.24353034, 0.15978931],\n",
       "        [0.00183116, 0.06858548, 0.31746967],\n",
       "        [0.00157892, 0.02510293, 0.33328569],\n",
       "        [0.08780176, 0.27253485, 0.1838626 ],\n",
       "        [0.29151872, 0.3799863 , 0.00243898]]])"
      ]
     },
     "execution_count": 11,
     "metadata": {},
     "output_type": "execute_result"
    }
   ],
   "source": [
    "predict_probabilities(model, tokenizer, sentence=[\n",
    "    'President Obama is speaking at the White House.',\n",
    "    'The farmer John talked about has a donkey named Fred.'\n",
    "], entity=[\n",
    "    'Obama',\n",
    "    'Fred'\n",
    "], types=['person', 'place', 'thing', 'animal', 'other', 'political figure'],\n",
    "normalize='mean')"
   ]
  },
  {
   "cell_type": "code",
   "execution_count": 12,
   "metadata": {},
   "outputs": [
    {
     "data": {
      "text/plain": [
       "array([[[0.12183367, 0.1585615 , 0.21180222],\n",
       "        [0.12839349, 0.17155132, 0.18576271],\n",
       "        [0.12285081, 0.16629278, 0.20028303],\n",
       "        [0.31538351, 0.15453343, 0.0839526 ],\n",
       "        [0.19211125, 0.17421743, 0.12225065],\n",
       "        [0.11942726, 0.17484353, 0.19594879]],\n",
       "\n",
       "       [[0.29595798, 0.13997024, 0.09633141],\n",
       "        [0.1469083 , 0.17870475, 0.15200267],\n",
       "        [0.11148425, 0.14878678, 0.24057794],\n",
       "        [0.11142687, 0.14216307, 0.25191668],\n",
       "        [0.13286499, 0.18421648, 0.16304017],\n",
       "        [0.2013576 , 0.20615867, 0.09613112]]])"
      ]
     },
     "execution_count": 12,
     "metadata": {},
     "output_type": "execute_result"
    }
   ],
   "source": [
    "predict_probabilities(model, tokenizer, sentence=[\n",
    "    'President Obama is speaking at the White House.',\n",
    "    'The farmer John talked about has a donkey named Fred.'\n",
    "], entity=[\n",
    "    'Obama',\n",
    "    'Fred'\n",
    "], types=['person', 'place', 'thing', 'animal', 'other', 'political figure'],\n",
    "normalize='softmax')"
   ]
  },
  {
   "cell_type": "code",
   "execution_count": 13,
   "metadata": {},
   "outputs": [
    {
     "data": {
      "text/plain": [
       "array(['person', 'animal'], dtype='<U6')"
      ]
     },
     "execution_count": 13,
     "metadata": {},
     "output_type": "execute_result"
    }
   ],
   "source": [
    "predict_type(model, tokenizer, sentence=[\n",
    "    'President Obama is speaking at the White House.',\n",
    "    'The farmer John talked about has a donkey named Fred.'\n",
    "], entity=[\n",
    "    'Obama',\n",
    "    'Fred'\n",
    "], types=['person', 'place', 'thing', 'animal', 'other', 'political figure'])"
   ]
  }
 ],
 "metadata": {
  "kernelspec": {
   "display_name": "fsem",
   "language": "python",
   "name": "python3"
  },
  "language_info": {
   "codemirror_mode": {
    "name": "ipython",
    "version": 3
   },
   "file_extension": ".py",
   "mimetype": "text/x-python",
   "name": "python",
   "nbconvert_exporter": "python",
   "pygments_lexer": "ipython3",
   "version": "3.10.9"
  },
  "orig_nbformat": 4,
  "vscode": {
   "interpreter": {
    "hash": "550264a8df05ad3f1b717355c06e4690664e80706ad98d0ce051feb5e13825c4"
   }
  }
 },
 "nbformat": 4,
 "nbformat_minor": 2
}
